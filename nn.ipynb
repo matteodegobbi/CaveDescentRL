{
 "cells": [
  {
   "cell_type": "code",
   "execution_count": 50,
   "id": "0ac2a48d-3adf-40eb-a54c-9837554df558",
   "metadata": {},
   "outputs": [],
   "source": [
    "import torch\n",
    "from torch import nn \n",
    "import numpy as np\n",
    "import torch.optim as optim\n",
    "class TrisModel(torch.nn.Module):\n",
    "    def __init__(self):\n",
    "        super(TrisModel, self).__init__()\n",
    "        self.lin1 = torch.nn.Linear(9,100)\n",
    "        self.activation1 = torch.nn.LeakyReLU()\n",
    "        \n",
    "        self.lin2 = torch.nn.Linear(100,500)\n",
    "        self.activation2 = torch.nn.LeakyReLU()\n",
    "        \n",
    "        self.lin3 = torch.nn.Linear(500,9)\n",
    "        #self.activation3 = torch.nn.LeakyReLU()\n",
    "        #self.softmax = torch.nn.Softmax()\n",
    "    def forward(self, x):\n",
    "        #print(x.shape)\n",
    "        x = self.lin1(x)\n",
    "        x = self.activation1(x)\n",
    "        \n",
    "        x = self.lin2(x)\n",
    "        x = self.activation2(x)\n",
    "        \n",
    "        x = self.lin3(x)\n",
    "        #x = self.softmax(x)\n",
    "        return x\n"
   ]
  },
  {
   "cell_type": "code",
   "execution_count": 51,
   "id": "c8709c76-0446-4ecb-83ac-3669a2214d53",
   "metadata": {},
   "outputs": [
    {
     "name": "stdout",
     "output_type": "stream",
     "text": [
      "tensor([-0.3266,  0.2102,  0.0772,  0.0033, -0.1859,  0.0756,  0.1574,  0.0276,\n",
      "         0.2222])\n"
     ]
    }
   ],
   "source": [
    "model = TrisModel()\n",
    "with torch.no_grad():\n",
    "    out= model(torch.ones(9))\n",
    "print(out)"
   ]
  },
  {
   "cell_type": "code",
   "execution_count": null,
   "id": "0d89839f-77b8-4973-9e13-c03a420cefd2",
   "metadata": {},
   "outputs": [],
   "source": [
    "def double_q_learning_loss(q1, q2, states, actions, rewards, next_states, dones, gamma=0.99):\n",
    "    # Get Q-values for current state-action pairs from Q1\n",
    "    q_values = q1(states)  # shape: [batch_size, num_actions]\n",
    "    q_value = q_values.gather(1, actions.unsqueeze(1)).squeeze(1)  # shape: [batch_size]\n",
    "\n",
    "    # Get next state action values from Q1\n",
    "    next_q_values = q1(next_states)  # shape: [batch_size, num_actions]\n",
    "    next_actions = torch.argmax(next_q_values, dim=1)  # shape: [batch_size]\n",
    "\n",
    "    # Evaluate those actions using q2 (Q2)\n",
    "    next_q_target_values = q2(next_states)\n",
    "    next_q_value = next_q_target_values.gather(1, next_actions.unsqueeze(1)).squeeze(1)\n",
    "\n",
    "    # Compute target\n",
    "    expected_q_value = rewards + gamma * next_q_value * (1 - dones)\n",
    "\n",
    "    # Compute loss\n",
    "    loss = F.mse_loss(q_value, expected_q_value.detach())\n",
    "\n",
    "    return loss"
   ]
  },
  {
   "cell_type": "code",
   "execution_count": 70,
   "id": "f2e60d89-36ad-4526-bfc8-838838ebd793",
   "metadata": {},
   "outputs": [
    {
     "name": "stdout",
     "output_type": "stream",
     "text": [
      "tensor([ 1.7637, -0.2675,  0.5906,  1.1975, -0.1213,  1.0661,  0.9292, -0.5465,\n",
      "         0.8252])\n",
      "Epoch [1/1000], Loss: 0.304771\n",
      "Epoch [100/1000], Loss: 0.000735\n",
      "Epoch [200/1000], Loss: 0.000238\n",
      "Epoch [300/1000], Loss: 0.000253\n",
      "Epoch [400/1000], Loss: 0.000119\n",
      "Epoch [500/1000], Loss: 0.000069\n",
      "Epoch [600/1000], Loss: 0.000108\n",
      "Epoch [700/1000], Loss: 0.000075\n",
      "Epoch [800/1000], Loss: 0.000076\n",
      "Epoch [900/1000], Loss: 0.000053\n",
      "Epoch [1000/1000], Loss: 0.000042\n"
     ]
    }
   ],
   "source": [
    "import copy\n",
    "import torch.nn.functional as F\n",
    "def train_identity(model, epochs=1000, batch_size=32, lr=0.001, device='cpu'):\n",
    "    EPOCHS_BEHIND = 10\n",
    "    model.to(device)\n",
    "    optimizer = optim.Adam(model.parameters(), lr=lr)\n",
    "    criterion = nn.MSELoss()\n",
    "    \n",
    "    with torch.no_grad():\n",
    "        out= model(torch.tensor([1.,23,2,1,4,5,6,7,3],))\n",
    "    print(out)\n",
    "    \n",
    "    q2_model = copy.deepcopy(model)\n",
    "    next_q2_model = copy.deepcopy(model)\n",
    "\n",
    "    for epoch in range(epochs):\n",
    "        if epoch % EPOCHS_BEHIND == 0:\n",
    "            # The q2_model is EPOCHS_BEHIND epochs behind model\n",
    "            q2_model = copy.deepcopy(next_q2_model)\n",
    "            next_q2_model = copy.deepcopy(model)\n",
    "        # Generate random input data\n",
    "        inputs = torch.rand(batch_size, 9).to(device)\n",
    "        targets = inputs.clone()  # Identity target\n",
    "\n",
    "        # Forward pass\n",
    "        outputs = model(inputs)\n",
    "        loss = criterion(outputs, targets)\n",
    "\n",
    "        # Backward and optimize\n",
    "        optimizer.zero_grad()\n",
    "        loss.backward()\n",
    "        optimizer.step()\n",
    "\n",
    "        if (epoch + 1) % 100 == 0 or epoch == 0:\n",
    "            print(f'Epoch [{epoch+1}/{epochs}], Loss: {loss.item():.6f}')\n",
    "            \n",
    "            \n",
    "    return q2_model\n",
    "\n",
    "# Example usage\n",
    "model = TrisModel()\n",
    "q2model = train_identity(model)\n"
   ]
  },
  {
   "cell_type": "code",
   "execution_count": 68,
   "id": "7b884f94-8431-4b07-9d6c-0e861ffe0dc2",
   "metadata": {},
   "outputs": [
    {
     "name": "stdout",
     "output_type": "stream",
     "text": [
      "tensor([ 0.9779, 20.5914,  1.8880,  1.4047,  5.2232,  4.2357,  5.8981,  7.1204,\n",
      "         2.5180])\n"
     ]
    }
   ],
   "source": [
    "\n",
    "with torch.no_grad():\n",
    "    out= model(torch.tensor([1.,23,2,1,4,5,6,7,3],))\n",
    "print(out)"
   ]
  },
  {
   "cell_type": "code",
   "execution_count": 69,
   "id": "5fdd4080-cac2-44a1-b786-7322e34ec753",
   "metadata": {},
   "outputs": [
    {
     "name": "stdout",
     "output_type": "stream",
     "text": [
      "tensor([ 0.4161,  0.3084,  0.9415,  0.5654, -0.0548, -0.5264, -0.6937, -0.3934,\n",
      "        -0.1584])\n"
     ]
    }
   ],
   "source": [
    "with torch.no_grad():\n",
    "    out= q2model(torch.tensor([1.,23,2,1,4,5,6,7,3],))\n",
    "print(out)"
   ]
  },
  {
   "cell_type": "code",
   "execution_count": null,
   "id": "df6cc88e-5c91-4869-ad5c-51a8689dcdcf",
   "metadata": {},
   "outputs": [],
   "source": []
  }
 ],
 "metadata": {
  "kernelspec": {
   "display_name": "Python 3 (ipykernel)",
   "language": "python",
   "name": "python3"
  },
  "language_info": {
   "codemirror_mode": {
    "name": "ipython",
    "version": 3
   },
   "file_extension": ".py",
   "mimetype": "text/x-python",
   "name": "python",
   "nbconvert_exporter": "python",
   "pygments_lexer": "ipython3",
   "version": "3.13.3"
  }
 },
 "nbformat": 4,
 "nbformat_minor": 5
}
