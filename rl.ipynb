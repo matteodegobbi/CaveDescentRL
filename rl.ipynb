{
 "cells": [
  {
   "cell_type": "code",
   "execution_count": 1,
   "id": "25856370-b814-4fb7-9262-7adbe54c1e92",
   "metadata": {},
   "outputs": [],
   "source": [
    "import numpy as np\n",
    "import random"
   ]
  },
  {
   "cell_type": "code",
   "execution_count": 2,
   "id": "2a14f42f-8e3f-4b9a-b498-9fefa3993681",
   "metadata": {},
   "outputs": [],
   "source": [
    "class Environement:\n",
    "    def __init__(self):\n",
    "        self.board = np.full((3, 3), -1)\n",
    "        self.done = False\n",
    "        self.player1turn = True \n",
    "    \n",
    "    def step(self,move : int,):\n",
    "        player = int(self.player1turn)\n",
    "        one_hot_move = np.zeros(9)\n",
    "        one_hot_move[move]=1\n",
    "        coords = (move // 3, move % 3)\n",
    "        if self.board[coords] != -1:\n",
    "            raise Exception(\"Already occupied\")\n",
    "        self.board[coords] = player\n",
    "        \n",
    "    def reset(self):\n",
    "        self.board = np.full((3, 3), -1)\n",
    "        \n",
    "    def check_win(self):\n",
    "        player_val = int(self.player1turn)\n",
    "        for i in range(3):\n",
    "            if np.all(self.board[i, :] == player_val):  \n",
    "                env.done = True\n",
    "                return True\n",
    "            if np.all(self.board[:, i] == player_val): \n",
    "                env.done = True\n",
    "                return True\n",
    "        if np.all(np.diag(self.board) == player_val): \n",
    "            env.done = True\n",
    "            return True\n",
    "        if np.all(np.diag(np.fliplr(self.board)) == player_val):\n",
    "            env.done = True\n",
    "            return True\n",
    "        env.done = False \n",
    "        return False\n",
    "        \n",
    "    def print_board(self):\n",
    "        for row in self.board:\n",
    "            print(\"|\".join(self.symbol(cell) for cell in row))\n",
    "            print(\"-\" * 5)\n",
    "            \n",
    "    def symbol(self,val):\n",
    "        if val == 1:\n",
    "            return \"X\"\n",
    "        elif val == 0:\n",
    "            return \"O\"\n",
    "        else:\n",
    "            return \" \""
   ]
  },
  {
   "cell_type": "code",
   "execution_count": null,
   "id": "a8ff3125-670f-49fd-9551-9a0a6964ca26",
   "metadata": {},
   "outputs": [],
   "source": []
  },
  {
   "cell_type": "code",
   "execution_count": 3,
   "id": "cbf90d4e-0859-424a-854e-38692d805251",
   "metadata": {
    "scrolled": true
   },
   "outputs": [
    {
     "name": "stdout",
     "output_type": "stream",
     "text": [
      " | | \n",
      "-----\n",
      " | | \n",
      "-----\n",
      "X| | \n",
      "-----\n"
     ]
    },
    {
     "name": "stdin",
     "output_type": "stream",
     "text": [
      " \n"
     ]
    },
    {
     "name": "stdout",
     "output_type": "stream",
     "text": [
      " | | \n",
      "-----\n",
      " |O| \n",
      "-----\n",
      "X| | \n",
      "-----\n"
     ]
    },
    {
     "name": "stdin",
     "output_type": "stream",
     "text": [
      " \n"
     ]
    },
    {
     "name": "stdout",
     "output_type": "stream",
     "text": [
      " | | \n",
      "-----\n",
      "X|O| \n",
      "-----\n",
      "X| | \n",
      "-----\n"
     ]
    },
    {
     "name": "stdin",
     "output_type": "stream",
     "text": [
      " \n"
     ]
    },
    {
     "name": "stdout",
     "output_type": "stream",
     "text": [
      " | |O\n",
      "-----\n",
      "X|O| \n",
      "-----\n",
      "X| | \n",
      "-----\n"
     ]
    },
    {
     "name": "stdin",
     "output_type": "stream",
     "text": [
      " \n"
     ]
    },
    {
     "name": "stdout",
     "output_type": "stream",
     "text": [
      "X| |O\n",
      "-----\n",
      "X|O| \n",
      "-----\n",
      "X| | \n",
      "-----\n",
      "Player X has won\n"
     ]
    },
    {
     "name": "stdin",
     "output_type": "stream",
     "text": [
      " \n"
     ]
    }
   ],
   "source": [
    "env = Environement()\n",
    "while not env.done:\n",
    "    \n",
    "    available_coords = list(zip(*np.where(env.board == -1)))\n",
    "    available = [r * 3 + c for r, c in available_coords]\n",
    "    if not available:\n",
    "        print(\"It's a draw!\")\n",
    "        break\n",
    "\n",
    "    move = random.choice(available)\n",
    "    env.step(move)\n",
    "    env.print_board()\n",
    "    \n",
    "    env.check_win()\n",
    "    if env.done:\n",
    "        print(f\"Player {env.symbol(int(env.player1turn))} has won\")\n",
    "    env.player1turn = not env.player1turn\n",
    "    input()\n",
    "    \n",
    "    \n",
    "    "
   ]
  },
  {
   "cell_type": "code",
   "execution_count": null,
   "id": "bbdcf701-af05-4ff5-85ab-029168beeeda",
   "metadata": {},
   "outputs": [],
   "source": []
  },
  {
   "cell_type": "code",
   "execution_count": null,
   "id": "9746e7df-22cc-496c-add7-aa00db0d6552",
   "metadata": {},
   "outputs": [],
   "source": []
  }
 ],
 "metadata": {
  "kernelspec": {
   "display_name": "Python 3 (ipykernel)",
   "language": "python",
   "name": "python3"
  },
  "language_info": {
   "codemirror_mode": {
    "name": "ipython",
    "version": 3
   },
   "file_extension": ".py",
   "mimetype": "text/x-python",
   "name": "python",
   "nbconvert_exporter": "python",
   "pygments_lexer": "ipython3",
   "version": "3.13.3"
  }
 },
 "nbformat": 4,
 "nbformat_minor": 5
}
